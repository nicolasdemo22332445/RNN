{
  "nbformat": 4,
  "nbformat_minor": 0,
  "metadata": {
    "colab": {
      "provenance": [],
      "authorship_tag": "ABX9TyPXbmf1neZJZ56S1klSYn1u",
      "include_colab_link": true
    },
    "kernelspec": {
      "name": "python3",
      "display_name": "Python 3"
    },
    "language_info": {
      "name": "python"
    }
  },
  "cells": [
    {
      "cell_type": "markdown",
      "metadata": {
        "id": "view-in-github",
        "colab_type": "text"
      },
      "source": [
        "<a href=\"https://colab.research.google.com/github/nicolasdemo22332445/RNN/blob/main/Ecuaciones_no_Lineales.ipynb\" target=\"_parent\"><img src=\"https://colab.research.google.com/assets/colab-badge.svg\" alt=\"Open In Colab\"/></a>"
      ]
    },
    {
      "cell_type": "markdown",
      "source": [
        "Ejemplo 1: Eliminacion de Gauss"
      ],
      "metadata": {
        "id": "X1fCIkeiQEBI"
      }
    },
    {
      "cell_type": "code",
      "execution_count": 6,
      "metadata": {
        "colab": {
          "base_uri": "https://localhost:8080/"
        },
        "id": "zh81McFRQCLS",
        "outputId": "63570192-aad8-4d73-ab79-660f5bedcb03"
      },
      "outputs": [
        {
          "output_type": "stream",
          "name": "stdout",
          "text": [
            "Solucion del sistema:\n",
            "x = -1.0000, y = -0.0000, z = 3.0000\n"
          ]
        }
      ],
      "source": [
        "import numpy as np\n",
        "\n",
        "# Matriz de coeficientes\n",
        "A = np.array([[2,3,1],\n",
        "             [4,1,2],\n",
        "             [3,4,2]], dtype=float)\n",
        "\n",
        "#Vector de terminos independienmtes\n",
        "b = np.array([1,2,3], dtype=float)\n",
        "\n",
        "#Resolvemos el sistema de ecuaciones usando eliminacion de Gauss\n",
        "sol = np.linalg.solve(A, b)\n",
        "\n",
        "#Mostrar la solucion\n",
        "print(\"Solucion del sistema:\")\n",
        "print(f\"x = {sol[0]:.4f}, y = {sol[1]:.4f}, z = {sol[2]:.4f}\")\n"
      ]
    },
    {
      "cell_type": "markdown",
      "source": [
        "Ejemplo 2: Matriz Inversa para calcular los pesos ajustados"
      ],
      "metadata": {
        "id": "hR5qFkx0SPMa"
      }
    },
    {
      "cell_type": "code",
      "source": [
        "#Matriz de coeficientes\n",
        "A = np.array([[1,2,3],\n",
        "              [2,1,4],\n",
        "              [3,4,1]], dtype=float)\n",
        "\n",
        "#Vcetor de salida deseada\n",
        "b = np.array([4,6,7], dtype=float)\n",
        "\n",
        "#Calcular la matriz inversa\n",
        "A_inv = np.linalg.inv(A)\n",
        "\n",
        "#Multiplicar A inv por el vector b\n",
        "sol = np.dot(A_inv, b)\n",
        "\n",
        "#Mostrar la solucion\n",
        "print(\"Pesos ajustados: \")\n",
        "print(f\"w1 = {sol[0]:.4f}, w2 = {sol[1]:.4f}, w3 = {sol[2]:.4f}\")"
      ],
      "metadata": {
        "colab": {
          "base_uri": "https://localhost:8080/"
        },
        "id": "kOCXTCJASMQ0",
        "outputId": "a200a718-0d2f-4a17-9a89-5013125f765c"
      },
      "execution_count": 7,
      "outputs": [
        {
          "output_type": "stream",
          "name": "stdout",
          "text": [
            "Pesos ajustados: \n",
            "w1 = 1.7500, w2 = 0.3000, w3 = 0.5500\n"
          ]
        }
      ]
    },
    {
      "cell_type": "markdown",
      "source": [
        "Ejercicio 3: Metodo de Jacobi"
      ],
      "metadata": {
        "id": "8lGxThdpTf99"
      }
    },
    {
      "cell_type": "code",
      "source": [
        "def jacobi(A, B, x0, tol=1e-10, max_iter=1000):\n",
        "    n = len(b)\n",
        "    x = x0\n",
        "    for k in range(max_iter):\n",
        "        x_new = np.zeros_like(x)\n",
        "        for i in range(n):\n",
        "            s = sum(A[i][j] * x[j] for j in range(n) if i != j)\n",
        "            x_new[i] = (b[i] - s) / A[i][i]\n",
        "        if np.linalg.norm(x_new - x, ord=np.inf) < tol:\n",
        "            return x_new\n",
        "        x = x_new\n",
        "    return x\n",
        "\n",
        "#Matriz de coeficientes\n",
        "A = np.array([[10,-1,2],\n",
        "              [-1,11,-1],\n",
        "              [2,-1,10]], dtype=float)\n",
        "\n",
        "#Vector de errores\n",
        "b = np.array([0.6, 1.5, 2.1], dtype=float)\n",
        "\n",
        "#Aproximacion inicial\n",
        "x0 = np.zeros_like(b)\n",
        "\n",
        "#Aplicar el metodo de jacobi\n",
        "sol = jacobi(A,b, x0)\n",
        "\n",
        "print(\"Pesos ajustados usando Jacobi\")\n",
        "print(sol)"
      ],
      "metadata": {
        "colab": {
          "base_uri": "https://localhost:8080/"
        },
        "id": "hrwdKwjgTkF3",
        "outputId": "305617e1-aed5-49c1-85a0-a0aec378a5d7"
      },
      "execution_count": 11,
      "outputs": [
        {
          "output_type": "stream",
          "name": "stdout",
          "text": [
            "Pesos ajustados usando Jacobi\n",
            "[0.03201923 0.15923077 0.21951923]\n"
          ]
        }
      ]
    },
    {
      "cell_type": "markdown",
      "source": [
        "Ejemplo 4: Metodo Iterativo de Gauss-Seidel"
      ],
      "metadata": {
        "id": "i7ogu3KIVk3T"
      }
    },
    {
      "cell_type": "code",
      "source": [
        "import numpy as np\n",
        "\n",
        "def gauss_seidel(A, b, x0, tol=1e-10, max_iter=1000):\n",
        "  n = len(b)\n",
        "  x = x0\n",
        "  for k in range(max_iter):\n",
        "      x_new = np.copy(x)\n",
        "      for i in range(n):\n",
        "          s1 = sum(A[i][j] * x_new[j] for j in range(i))\n",
        "          s2 = sum(A[i][j] * x[j] for j in range(i+1, n))\n",
        "      if np.linalg.norm(x_new - x, ord=np.inf) < tol:\n",
        "          return x_new, k\n",
        "      x = x_new\n",
        "  return x, max_iter\n",
        "\n",
        "#Matriz de coeficinetes\n",
        "A = np.array([[10,-1,2,0],\n",
        "              [-1,11,-1,3],\n",
        "              [2,-1,10,-1],\n",
        "              [0,3,-1,8]], dtype=float)\n",
        "\n",
        "#Vector de terminos independientes\n",
        "b = np.array([6, 25, -11, 15], dtype=float)\n",
        "\n",
        "#Valor inicial de las incognitas\n",
        "x0 = np.zeros_like(b)\n",
        "\n",
        "#Resolver el sistema usando el metodo de Gauss-Seidel\n",
        "sol, iteraciones = gauss_seidel(A , b, x0)\n",
        "\n",
        "#Mostrar la solucion y el numero de iteraciones\n",
        "print(\"Solucion del sistema: \")\n",
        "print(sol)\n",
        "print(f\"Numero de iteraciones: {iteraciones}\")"
      ],
      "metadata": {
        "colab": {
          "base_uri": "https://localhost:8080/"
        },
        "id": "H7m6udQ-VqwQ",
        "outputId": "0b1b2eab-8fba-4a55-b93d-a33e0fa32000"
      },
      "execution_count": 13,
      "outputs": [
        {
          "output_type": "stream",
          "name": "stdout",
          "text": [
            "Solucion del sistema: \n",
            "[0. 0. 0. 0.]\n",
            "Numero de iteraciones: 0\n"
          ]
        }
      ]
    },
    {
      "cell_type": "markdown",
      "source": [
        "Ejemplo 5: Descomposicion de Cholesky aplicada a una red neuronal"
      ],
      "metadata": {
        "id": "AXbnGF_0ZDDH"
      }
    },
    {
      "cell_type": "code",
      "source": [
        "from scipy.linalg import cholesky\n",
        "\n",
        "#Matriz y vector\n",
        "A = np.array([[6,15,55],\n",
        "              [15,55,255],\n",
        "              [55,225,979]], dtype=float)\n",
        "\n",
        "b = np.array([76, 295, 1295], dtype=float)\n",
        "\n",
        "#Descomposicion de cholesky\n",
        "L = cholesky(A, lower=True)\n",
        "\n",
        "#Resolver Ly = b\n",
        "y = np.linalg.solve(L, b)\n",
        "\n",
        "#Resolver L^T x = y\n",
        "x = np.linalg.solve(L.T, y)\n",
        "\n",
        "print(\"Pesos ajustados usando Cholesky: \")\n",
        "print(x)"
      ],
      "metadata": {
        "colab": {
          "base_uri": "https://localhost:8080/"
        },
        "id": "5AdxfBwCZL8B",
        "outputId": "8172ecd9-8425-4e36-8c72-d3890b1debfa"
      },
      "execution_count": 17,
      "outputs": [
        {
          "output_type": "stream",
          "name": "stdout",
          "text": [
            "Pesos ajustados usando Cholesky: \n",
            "[ 4.21428571 -3.82142857  1.96428571]\n"
          ]
        }
      ]
    }
  ]
}